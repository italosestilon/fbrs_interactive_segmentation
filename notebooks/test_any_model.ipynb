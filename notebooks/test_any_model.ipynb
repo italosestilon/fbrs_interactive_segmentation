{
 "cells": [
  {
   "cell_type": "code",
   "execution_count": 1,
   "metadata": {
    "ExecuteTime": {
     "end_time": "2020-01-24T09:33:22.317671Z",
     "start_time": "2020-01-24T09:33:20.976126Z"
    }
   },
   "outputs": [],
   "source": [
    "%matplotlib inline\n",
    "import matplotlib.pyplot as plt\n",
    "\n",
    "import os\n",
    "from functools import partial\n",
    "os.environ['MXNET_CUDNN_AUTOTUNE_DEFAULT'] = '0'\n",
    "\n",
    "import cv2\n",
    "import sys\n",
    "import numpy as np\n",
    "import mxnet as mx\n",
    "\n",
    "sys.path.insert(0, '..')\n",
    "from isegm.utils import vis, exp\n",
    "\n",
    "from isegm.inference import utils\n",
    "from isegm.inference.evaluation import evaluate_dataset, evaluate_sample\n",
    "\n",
    "ctx = mx.gpu(0)\n",
    "cfg = exp.load_config_file('../config.yml', return_edict=True)"
   ]
  },
  {
   "cell_type": "markdown",
   "metadata": {},
   "source": [
    "### Init dataset"
   ]
  },
  {
   "cell_type": "code",
   "execution_count": 2,
   "metadata": {
    "ExecuteTime": {
     "end_time": "2020-01-24T09:33:22.322565Z",
     "start_time": "2020-01-24T09:33:22.319433Z"
    }
   },
   "outputs": [],
   "source": [
    "# Possible choices: 'GrabCut', 'Berkeley', 'DAVIS', 'COCO_MVal', 'SBD'\n",
    "DATASET = 'GrabCut'\n",
    "dataset = utils.get_dataset(DATASET, cfg)"
   ]
  },
  {
   "cell_type": "markdown",
   "metadata": {},
   "source": [
    "### Init model"
   ]
  },
  {
   "cell_type": "code",
   "execution_count": 3,
   "metadata": {
    "ExecuteTime": {
     "end_time": "2020-01-24T09:33:24.641351Z",
     "start_time": "2020-01-24T09:33:23.025444Z"
    }
   },
   "outputs": [],
   "source": [
    "from isegm.inference.predictors import get_predictor\n",
    "\n",
    "EVAL_MAX_CLICKS = 20\n",
    "MODEL_THRESH = 0.49\n",
    "\n",
    "checkpoint_path = utils.find_checkpoint(cfg.INTERACTIVE_MODELS_PATH, 'resnet34_dh128_sbd')\n",
    "model = utils.load_deeplab_is_model(checkpoint_path, ctx, num_max_clicks=EVAL_MAX_CLICKS)\n",
    "\n",
    "# # Possible choices: 'NoBRS', 'f-BRS-A', 'f-BRS-B', 'f-BRS-C', 'RGB-BRS', 'DistMap-BRS'\n",
    "brs_mode = 'f-BRS-B'\n",
    "predictor = get_predictor(model, brs_mode,\n",
    "                          prob_thresh=MODEL_THRESH,\n",
    "                          predictor_params={'num_max_points': EVAL_MAX_CLICKS})"
   ]
  },
  {
   "cell_type": "markdown",
   "metadata": {},
   "source": [
    "### Dataset evaluation"
   ]
  },
  {
   "cell_type": "code",
   "execution_count": 4,
   "metadata": {
    "ExecuteTime": {
     "end_time": "2020-01-24T09:33:41.448973Z",
     "start_time": "2020-01-24T09:33:25.052453Z"
    }
   },
   "outputs": [
    {
     "data": {
      "application/vnd.jupyter.widget-view+json": {
       "model_id": "",
       "version_major": 2,
       "version_minor": 0
      },
      "text/plain": [
       "HBox(children=(IntProgress(value=0, max=50), HTML(value='')))"
      ]
     },
     "metadata": {},
     "output_type": "display_data"
    },
    {
     "name": "stdout",
     "output_type": "stream",
     "text": [
      "\r",
      "-----------------------------------------------------------------------------------------------\n",
      "|  BRS Type   |  Dataset  | NoC@80% | NoC@85% | NoC@90% |>=20@85% |>=20@90% | SPC,s |  Time   |\n",
      "-----------------------------------------------------------------------------------------------\n",
      "|   f-BRS-B   |  GrabCut  |  1.82   |  2.06   |  2.48   |    1    |    1    | 0.132 | 0:00:16 |\n"
     ]
    }
   ],
   "source": [
    "TARGET_IOU = 0.9\n",
    "\n",
    "all_ious, elapsed_time = evaluate_dataset(dataset, predictor, pred_thr=MODEL_THRESH, \n",
    "                                          max_iou_thr=TARGET_IOU, max_clicks=EVAL_MAX_CLICKS)\n",
    "mean_spc, mean_spi = utils.get_time_metrics(all_ious, elapsed_time)\n",
    "noc_list, over_max_list = utils.compute_noc_metric(all_ious,\n",
    "                                                   iou_thrs=[0.8, 0.85, 0.9],\n",
    "                                                   max_clicks=EVAL_MAX_CLICKS)\n",
    "\n",
    "header, table_row = utils.get_results_table(noc_list, over_max_list, brs_mode, DATASET,\n",
    "                                            mean_spc, elapsed_time, EVAL_MAX_CLICKS)\n",
    "print(header)\n",
    "print(table_row)"
   ]
  },
  {
   "cell_type": "markdown",
   "metadata": {},
   "source": [
    "### Single sample eval"
   ]
  },
  {
   "cell_type": "code",
   "execution_count": null,
   "metadata": {
    "ExecuteTime": {
     "end_time": "2019-12-04T10:53:23.817566Z",
     "start_time": "2019-12-04T10:53:22.592826Z"
    }
   },
   "outputs": [],
   "source": [
    "sample_id = 12\n",
    "TARGET_IOU = 0.95\n",
    "\n",
    "sample = dataset.get_sample(sample_id)\n",
    "item = dataset[sample_id]\n",
    "\n",
    "clicks_list, ious_arr, pred = evaluate_sample(item['images'], sample['instances_mask'], predictor, \n",
    "                                              pred_thr=MODEL_THRESH, \n",
    "                                              max_iou_thr=TARGET_IOU, max_clicks=EVAL_MAX_CLICKS)\n",
    "\n",
    "pred_mask = pred > MODEL_THRESH\n",
    "draw = vis.draw_with_blend_and_clicks(sample['image'], mask=pred_mask, clicks_list=clicks_list)\n",
    "draw = np.concatenate((draw,\n",
    "    255 * pred_mask[:, :, np.newaxis].repeat(3, axis=2),\n",
    "    255 * (sample['instances_mask'] > 0)[:, :, np.newaxis].repeat(3, axis=2)\n",
    "), axis=1)\n",
    "\n",
    "print(ious_arr)\n",
    "\n",
    "plt.figure(figsize=(20, 30))\n",
    "plt.imshow(draw)\n",
    "plt.show()"
   ]
  }
 ],
 "metadata": {
  "kernelspec": {
   "display_name": "Python 3",
   "language": "python",
   "name": "python3"
  },
  "language_info": {
   "codemirror_mode": {
    "name": "ipython",
    "version": 3
   },
   "file_extension": ".py",
   "mimetype": "text/x-python",
   "name": "python",
   "nbconvert_exporter": "python",
   "pygments_lexer": "ipython3",
   "version": "3.6.9"
  },
  "pycharm": {
   "stem_cell": {
    "cell_type": "raw",
    "metadata": {
     "collapsed": false
    },
    "source": []
   }
  },
  "toc": {
   "base_numbering": 1,
   "nav_menu": {},
   "number_sections": true,
   "sideBar": true,
   "skip_h1_title": false,
   "title_cell": "Table of Contents",
   "title_sidebar": "Contents",
   "toc_cell": false,
   "toc_position": {
    "height": "calc(100% - 180px)",
    "left": "10px",
    "top": "150px",
    "width": "294px"
   },
   "toc_section_display": true,
   "toc_window_display": true
  }
 },
 "nbformat": 4,
 "nbformat_minor": 2
}
